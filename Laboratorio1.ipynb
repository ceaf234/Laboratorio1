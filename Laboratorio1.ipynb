{
 "cells": [
  {
   "attachments": {},
   "cell_type": "markdown",
   "metadata": {},
   "source": [
    "# Ciencia de Datos en Python\n",
    "## Hoja de Trabajo # 1 - Jupyter Notebooks, Markdown y Git"
   ]
  },
  {
   "attachments": {},
   "cell_type": "markdown",
   "metadata": {},
   "source": [
    "\n",
    "\n",
    "![alt text](https://cdn.icon-icons.com/icons2/2368/PNG/512/github_logo_icon_143772.png \"Logo Title Text 1\")\n",
    "\n",
    "\n",
    "\n"
   ]
  },
  {
   "attachments": {},
   "cell_type": "markdown",
   "metadata": {},
   "source": [
    "\n",
    "### Git\n",
    "\n",
    "Git es un sistema de control de versiones utilizado para gestionar el código fuente de software y proyectos. Permite a los desarrolladores trabajar en equipo y mantener un historial de cambios en el código fuente de manera eficiente.\n",
    "\n",
    "Git funciona mediante la creación de un repositorio, que es un espacio de almacenamiento donde se guarda el código fuente del proyecto. Los desarrolladores pueden trabajar en el código en sus propias ramas de trabajo, lo que les permite trabajar en diferentes partes del proyecto sin interferir con el trabajo de los demás. Una vez que se completa el trabajo en una rama, se puede fusionar con la rama principal del proyecto.\n",
    "\n",
    "El uso de Git ofrece una serie de ventajas para los desarrolladores. En primer lugar, permite a los desarrolladores trabajar de manera colaborativa en un proyecto, lo que significa que varios desarrolladores pueden trabajar juntos en el mismo proyecto de manera simultánea. Además, el historial de cambios del código fuente permite a los desarrolladores rastrear y revertir cambios en el código. Esto es especialmente útil en caso de errores o cambios indeseados.\n",
    "\n",
    "Git es una herramienta esencial para los desarrolladores y es ampliamente utilizado en la industria de software. La comprensión de su funcionamiento básico es fundamental para trabajar en proyectos de desarrollo de software.\n"
   ]
  },
  {
   "attachments": {},
   "cell_type": "markdown",
   "metadata": {},
   "source": [
    "### GitHub\n",
    "\n",
    "GitHub es una plataforma en línea que permite a los desarrolladores de software colaborar en proyectos de programación y compartir su trabajo con otros usuarios. Fundada en 2008, GitHub ha crecido rápidamente en popularidad y ahora cuenta con más de 100 millones de repositorios, que son espacios donde se almacena el código fuente de los proyectos de software.\n",
    "\n",
    "Los repositorios en GitHub son públicos o privados y los usuarios pueden contribuir al código de un proyecto mediante solicitudes de extracción o \"pull requests\". Además, GitHub ofrece herramientas para la gestión de problemas o \"issues\", la gestión de proyectos, el seguimiento de versiones y la integración continua, lo que hace que sea una plataforma muy útil para el desarrollo de software en equipo.\n",
    "\n",
    "GitHub también ha sido adoptado por la comunidad de código abierto, lo que significa que hay una gran cantidad de proyectos disponibles de forma gratuita para cualquier persona que quiera utilizarlos o contribuir a ellos. Esto ha hecho que GitHub sea una herramienta clave para el desarrollo de software libre.\n",
    "\n",
    "En resumen, GitHub es una plataforma en línea para la colaboración y el intercambio de código fuente entre desarrolladores de software. Ofrece herramientas para la gestión de proyectos, la gestión de problemas y la integración continua, lo que hace que sea una herramienta valiosa para el desarrollo de software en equipo. Además, GitHub es una herramienta importante en el mundo del código abierto, lo que significa que hay una gran cantidad de proyectos gratuitos disponibles para su uso y contribución.\n"
   ]
  },
  {
   "attachments": {},
   "cell_type": "markdown",
   "metadata": {},
   "source": [
    "### Comandos mas utilizados\n",
    "\n",
    "| Comando        | Descripcion           | Sintaxis  |\n",
    "| ------------- |:-------------:| -----:|\n",
    "| git clone     | Clona un repositorio Git en una nueva carpeta local                    |git clone <url_del_repositorio> |\n",
    "| git add       | Añade cambios al área de staging                                       |git add <nombre_del_archivo> |\n",
    "| git commit    | Crea un nuevo commit con los cambios en el área de staging             |git commit -m \"Mensaje del commit\"|\n",
    "| git push      | Envía los cambios locales al repositorio remoto                        |git push <nombre_del_repositorio_remoto> <nombre_de_la_rama> |\n",
    "| git pull      | Descarga los cambios remotos y los combina con los cambios locales     |git pull <nombre_del_repositorio_remoto> <nombre_de_la_rama>|\n",
    "| git status    | Muestra el estado actual del repositorio                               |git status|\n",
    "| git checkout  | Muestra una lista de ramas en el repositorio                           |git checkout <nombre_de_la_rama_o_hash_del_commit> |\n",
    "| git merge     | Combina cambios de una rama a otra                                     |git merge <nombre_de_la_rama>|\n",
    "| git log       | Muestra el registro de commits en el repositorio                       |git log|\n",
    "| git branch\t| Muestra una lista de ramas en el repositorio                           |git branch|"
   ]
  },
  {
   "cell_type": "markdown",
   "metadata": {},
   "source": [
    "<!DOCTYPE html>\n",
    "<html>\n",
    "<head>\n",
    "\t<title>Uso de HTML en Notebooks</title>\n",
    "\t<meta charset=\"UTF-8\">\n",
    "</head>\n",
    "<body>\n",
    "\t<h1>Uso de HTML en Notebooks</h1>\n",
    "\t<p>La ciencia de datos es una disciplina que se enfoca en la extracción de conocimiento a partir de grandes conjuntos de datos. A través del uso de técnicas estadísticas y algoritmos de aprendizaje automático, los científicos de datos pueden analizar datos de diversas fuentes y encontrar patrones y relaciones que pueden ser utilizados para tomar decisiones informadas.</p>\n",
    "\t<p>La ciencia de datos tiene aplicaciones en una variedad de campos, incluyendo la medicina, la biología, la ingeniería, el marketing y las finanzas. En medicina, por ejemplo, los científicos de datos pueden utilizar técnicas de análisis de datos para identificar patrones en grandes conjuntos de datos médicos, lo que puede llevar a descubrimientos importantes en el tratamiento de enfermedades.</p>\n",
    "\t<p>Sin embargo, la ciencia de datos también plantea desafíos importantes. La cantidad de datos disponibles hoy en día es enorme, y la capacidad de almacenar y procesar esta información requiere de infraestructuras y recursos computacionales adecuados. Además, el procesamiento de grandes conjuntos de datos plantea desafíos éticos y de privacidad, ya que la información puede ser utilizada para fines malintencionados.</p>\n",
    "\t<p>En resumen, la ciencia de datos es una disciplina en constante evolución que tiene aplicaciones en una amplia variedad de campos. A medida que la tecnología continúa avanzando y la cantidad de datos disponibles sigue creciendo, la importancia de la ciencia de datos solo aumentará en el futuro.</p>\n",
    "</body>\n",
    "</html>"
   ]
  },
  {
   "attachments": {},
   "cell_type": "markdown",
   "metadata": {},
   "source": [
    "<a href=\"https://www.youtube.com/watch?v=qdec2M4NwT0&t=370s\" target=\"_blank\"><img src=\"https://www.youtube.com/watch?v=qdec2M4NwT0&t=370s\" \n",
    "alt=\"https://www.youtube.com/watch?v=qdec2M4NwT0&t=370s\" width=\"240\" height=\"180\" border=\"10\" /></a>"
   ]
  },
  {
   "attachments": {},
   "cell_type": "markdown",
   "metadata": {},
   "source": [
    "---\n",
    "***\n",
    "___"
   ]
  },
  {
   "cell_type": "code",
   "execution_count": 3,
   "metadata": {},
   "outputs": [
    {
     "name": "stdout",
     "output_type": "stream",
     "text": [
      "Hola mundo\n"
     ]
    }
   ],
   "source": [
    "# Imprimiento \"Hola Mundo\"\n",
    "print('Hola mundo')"
   ]
  },
  {
   "cell_type": "code",
   "execution_count": 4,
   "metadata": {},
   "outputs": [
    {
     "name": "stdout",
     "output_type": "stream",
     "text": [
      "4\n"
     ]
    }
   ],
   "source": [
    "# Sumando 1 + 3 e imprimirlo\n",
    "suma = 1 + 3\n",
    "print(suma)"
   ]
  },
  {
   "cell_type": "code",
   "execution_count": 5,
   "metadata": {},
   "outputs": [
    {
     "name": "stdout",
     "output_type": "stream",
     "text": [
      "12\n"
     ]
    }
   ],
   "source": [
    "# Multiplicando suma * 3 e imprimirlo\n",
    "multiplicacion = suma * 3\n",
    "print(multiplicacion)"
   ]
  },
  {
   "cell_type": "code",
   "execution_count": 6,
   "metadata": {},
   "outputs": [
    {
     "name": "stdout",
     "output_type": "stream",
     "text": [
      "3\n"
     ]
    }
   ],
   "source": [
    "# restando suma - 1 e imprimirlo\n",
    "resta = suma - 1\n",
    "print(resta)"
   ]
  }
 ],
 "metadata": {
  "kernelspec": {
   "display_name": "Testenv2",
   "language": "python",
   "name": "python3"
  },
  "language_info": {
   "codemirror_mode": {
    "name": "ipython",
    "version": 3
   },
   "file_extension": ".py",
   "mimetype": "text/x-python",
   "name": "python",
   "nbconvert_exporter": "python",
   "pygments_lexer": "ipython3",
   "version": "3.9.16"
  },
  "orig_nbformat": 4
 },
 "nbformat": 4,
 "nbformat_minor": 2
}
